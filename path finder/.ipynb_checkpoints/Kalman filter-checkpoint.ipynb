{
 "cells": [
  {
   "cell_type": "markdown",
   "id": "5fc00167",
   "metadata": {},
   "source": [
    "## Kalman filter\n",
    "상태 추정 문제를 해결하기 위한 필터링 알고리즘으로, 예측 모델과 실제 측정치를 결합하여 정확한 상태를 추정하는 방법입니다. 예를 들어, 로봇이나 자율주행 차량에서 사용됩니다.\n",
    "\n",
    "Kalman filter는 아래와 같은 단계로 구성됩니다.\n",
    "\n",
    "초기 상태 설정: 초기 상태와 오차 공분산 행렬을 설정합니다.\n",
    "예측 단계: 현재 상태와 오차 공분산 행렬을 예측합니다.\n",
    "업데이트 단계: 예측한 상태와 측정값을 결합하여 보정된 상태와 오차 공분산 행렬을 계산합니다.\n",
    "\n",
    "A, B, H, Q, R, P, x0는 각각 시스템 모델 행렬, 시스템 입력 행렬, 측정 모델 행렬, 시스템 노이즈 공분산 행렬, 측정 노이즈 공분산 행렬, 초기 공분산 행렬, 초기 상태 벡터를 의미합니다. predict 메서드는 상태를 예측하고, update 메서드는 측정 값을 이용하여 상태를 업데이트합니다. 이를 사용하여 Kalman filter를 적용할 수 있습니다."
   ]
  },
  {
   "cell_type": "code",
   "execution_count": null,
   "id": "6fc086a1",
   "metadata": {},
   "outputs": [],
   "source": [
    "import numpy as np\n",
    "\n",
    "class KalmanFilter:\n",
    "    def __init__(self, A, B, H, Q, R, P, x0):\n",
    "        \"\"\"\n",
    "        A: 시스템 모델 행렬\n",
    "        B: 시스템 입력 행렬\n",
    "        H: 측정 모델 행렬\n",
    "        Q: 시스템 노이즈 공분산 행렬\n",
    "        R: 측정 노이즈 공분산 행렬\n",
    "        P: 초기 공분산 행렬\n",
    "        x0: 초기 상태 벡터\n",
    "        \"\"\"\n",
    "        self.A = A\n",
    "        self.B = B\n",
    "        self.H = H\n",
    "        self.Q = Q\n",
    "        self.R = R\n",
    "        self.P = P\n",
    "        self.x = x0\n",
    "\n",
    "    def predict(self, u=0):\n",
    "        # 상태 예측\n",
    "        self.x = np.dot(self.A, self.x) + np.dot(self.B, u)\n",
    "        # 공분산 예측\n",
    "        self.P = np.dot(np.dot(self.A, self.P), self.A.T) + self.Q\n",
    "        return self.x\n",
    "\n",
    "    def update(self, z):\n",
    "        # 측정 잔차 계산\n",
    "        y = z - np.dot(self.H, self.x)\n",
    "        # 측정 잔차 공분산 계산\n",
    "        S = np.dot(np.dot(self.H, self.P), self.H.T) + self.R\n",
    "        # 칼만 이득 계산\n",
    "        K = np.dot(np.dot(self.P, self.H.T), np.linalg.inv(S))\n",
    "        # 상태 업데이트\n",
    "        self.x = self.x + np.dot(K, y)\n",
    "        # 공분산 업데이트\n",
    "        self.P = self.P - np.dot(np.dot(K, self.H), self.P)\n",
    "        return self.x"
   ]
  }
 ],
 "metadata": {
  "kernelspec": {
   "display_name": "Python 3 (ipykernel)",
   "language": "python",
   "name": "python3"
  },
  "language_info": {
   "codemirror_mode": {
    "name": "ipython",
    "version": 3
   },
   "file_extension": ".py",
   "mimetype": "text/x-python",
   "name": "python",
   "nbconvert_exporter": "python",
   "pygments_lexer": "ipython3",
   "version": "3.9.5"
  }
 },
 "nbformat": 4,
 "nbformat_minor": 5
}
