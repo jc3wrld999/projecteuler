{
 "cells": [
  {
   "cell_type": "code",
   "execution_count": 13,
   "id": "175cb438",
   "metadata": {},
   "outputs": [
    {
     "name": "stdout",
     "output_type": "stream",
     "text": [
      "w4a3d1e1x6y1w3\n",
      "wwwwaaadexxxxxxywww\n"
     ]
    }
   ],
   "source": [
    "'''\n",
    "Run Length Encoding을 활용한 문자열 압축\n",
    "'''\n",
    "def run_length_encoding(st):\n",
    "    res = \"\"\n",
    "    n = len(st)\n",
    "    i = 0\n",
    "    while i < n- 1:\n",
    "        count = 1\n",
    "        while (i < n - 1 and st[i] == st[i + 1]):\n",
    "            count += 1\n",
    "            i += 1\n",
    "        res = res + st[i] + str(count)\n",
    "        i += 1\n",
    "    return res\n",
    "\n",
    "def run_length_decoding(compressed_seq):\n",
    "\n",
    "    res = \"\"\n",
    "    current_letter = None\n",
    "    for c in compressed_seq:\n",
    "        if c.isdigit():\n",
    "            if current_letter is not None:\n",
    "                res += current_letter * int(c)\n",
    "        else:\n",
    "            current_letter = c\n",
    "    return res\n",
    "\n",
    "print(run_length_encoding(\"wwwwaaadexxxxxxywww\"))\n",
    "print(run_length_decoding('w4a3d1e1x6y1w3'))"
   ]
  },
  {
   "cell_type": "code",
   "execution_count": 11,
   "id": "7ee8de7a",
   "metadata": {},
   "outputs": [
    {
     "data": {
      "text/plain": [
       "'wwwwaaadexxxxxxywww'"
      ]
     },
     "execution_count": 11,
     "metadata": {},
     "output_type": "execute_result"
    }
   ],
   "source": [
    "'''\n",
    "sliding window 활용한 문자열 검색\n",
    "'''\n",
    "def lengthOfLongestSubstring(self, s: str) -> int:\n",
    "\t'''\n",
    "    Leetcode 3. Longest Substring Without Repeating Characters\n",
    "    문자열이 주어지면 반복되는 문자가 없는 가장 긴 하위 문자열s 의 길이 반환\n",
    "    '''\n",
    "    charSet = set()\n",
    "    l, res = 0, 0\n",
    "    for r in range(len(s)):\n",
    "        # 중복일 경우 해당 문자까지 지우고\n",
    "        while s[r] in charSet:\n",
    "            charSet.remove(s[l])\n",
    "            l += 1\n",
    "        charSet.add(s[r])\n",
    "        res = max(res, r - l + 1)\n",
    "    return res\n",
    "\n",
    "def characterReplacement(self, s: str, k: int) -> int:\n",
    "\t'''\n",
    "    Leetcode 424. Longest Repeating Character Replacement\n",
    "    문자열의 아무 문자나 k개 선택하여 다른 영문 대문자로 변경할 수 있음\n",
    "    수행한 후 얻을 수 있는 가장 긴 중복 연속 문자열 길이 반환\n",
    "    '''\n",
    "    count = {}\n",
    "    res = 0\n",
    "    l = 0\n",
    "    maxf = 0\n",
    "    for r in range(len(s)):\n",
    "        # 문자마다 누적 개수를 세준다.\n",
    "        count[s[r]] = 1 + count.get(s[r], 0)\n",
    "        # 현재까지 최대 문자 수\n",
    "        maxf = max(maxf, count[s[r]])\n",
    "\n",
    "        while (r - l + 1) - maxf > k:\n",
    "            count[s[l]] -= 1\n",
    "            l += 1\n",
    "        # 최댓값 업데이트\n",
    "        res = max(res, r - l + 1)\n",
    "    return res\n",
    "\n",
    "def minWindow(self, s, t):\n",
    "    '''\n",
    "    76. Minimum Window Substring\n",
    "    문자열1에서 문자열2를 포함하는 최소 길이의 문자열을 반환\n",
    "    r 포인터를 이동해가며 윈도우를 설정하고 have == need면 l 포인터를 이동하면서 최소길이 갱신\n",
    "    '''\n",
    "    if t == \"\": return \"\"\n",
    "\n",
    "    countT, window = {}, {}\n",
    "    for c in t:\n",
    "        countT[c] = 1 + countT.get(c, 0)\n",
    "    have, need = 0, len(countT)\n",
    "    res, resLen = [-1, -1], float(\"infinity\")\n",
    "    l = 0\n",
    "    for r in range(len(s)):\n",
    "        c = s[r]\n",
    "        window[c] = 1 + window.get(c, 0)\n",
    "\n",
    "        if c in countT and window[c] == countT[c]:\n",
    "            have += 1\n",
    "        # 윈도우 크기 완성하면\n",
    "        while have == need:\n",
    "            # 1. 최소값 갱신\n",
    "            if (r - l + 1) < resLen:\n",
    "                res = [l, r]\n",
    "                resLen = (r - l + 1)\n",
    "            # 2. 오른쪽으로 l좌표 이동\n",
    "\n",
    "            window[s[l]] -= 1 # 윈도우에서 빼고\n",
    "            if s[l] in countT and window[s[l]] < countT[s[l]]:\n",
    "                have -= 1 # have에서 빼고\n",
    "            l += 1 # l++\n",
    "    l, r = res\n",
    "    return s[l:r+1] if resLen != float(\"infinity\")  else \"\""
   ]
  },
  {
   "cell_type": "code",
   "execution_count": null,
   "id": "a9a30cc4",
   "metadata": {},
   "outputs": [],
   "source": [
    "'''\n",
    "우영우 문제\n",
    "'''\n",
    "def is_Palindrome(s):\n",
    "    l = 0\n",
    "    h = len(s) - 1\n",
    "    while l < h:\n",
    "        if s[l] != s[h]:\n",
    "            return False\n",
    "        l, h = l+1, h-1\n",
    "    return True\n",
    "\n",
    "def groupAnagrams(self, strs):\n",
    "\t'''\n",
    "    Leetcode 49. Group Anagrams\n",
    "    '''\n",
    "    res = defaultdict(list)\n",
    "    for s in strs:\n",
    "        count = [0] * 26\n",
    "\n",
    "        for c in s:\n",
    "            count[ord(c) - ord(\"a\")] += 1\n",
    "        res[tuple(count)].append(s)\n",
    "\n",
    "    return res.values()"
   ]
  },
  {
   "cell_type": "code",
   "execution_count": null,
   "id": "ff915b56",
   "metadata": {},
   "outputs": [],
   "source": [
    "'''\n",
    "Boyer Moore\n",
    "'''"
   ]
  }
 ],
 "metadata": {
  "kernelspec": {
   "display_name": "Python 3 (ipykernel)",
   "language": "python",
   "name": "python3"
  },
  "language_info": {
   "codemirror_mode": {
    "name": "ipython",
    "version": 3
   },
   "file_extension": ".py",
   "mimetype": "text/x-python",
   "name": "python",
   "nbconvert_exporter": "python",
   "pygments_lexer": "ipython3",
   "version": "3.9.5"
  }
 },
 "nbformat": 4,
 "nbformat_minor": 5
}
