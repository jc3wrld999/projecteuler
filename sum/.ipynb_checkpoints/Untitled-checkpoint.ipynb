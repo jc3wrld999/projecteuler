{
 "cells": [
  {
   "cell_type": "code",
   "execution_count": null,
   "id": "59feb012",
   "metadata": {},
   "outputs": [],
   "source": []
  },
  {
   "cell_type": "code",
   "execution_count": null,
   "id": "85d22d1e",
   "metadata": {},
   "outputs": [],
   "source": [
    "'''\n",
    "Leetcode 78. Subsets\n",
    "부분 집합 구하기\n",
    "'''\n",
    "def subsets(nums):\n",
    "    res = []\n",
    "    subset = []\n",
    "\n",
    "    def dfs(i):\n",
    "        # 빠져나옴\n",
    "        if i >= len(nums):\n",
    "            res.append(subset.copy())\n",
    "            return\n",
    "        # 추가할때\n",
    "        subset.append(nums[i])\n",
    "        dfs(i+1)\n",
    "\n",
    "        # 추가안할때\n",
    "        subset.pop()\n",
    "        dfs(i+1)\n",
    "    dfs(0)\n",
    "\n",
    "    return res\n"
   ]
  },
  {
   "cell_type": "code",
   "execution_count": 5,
   "id": "41fd931b",
   "metadata": {},
   "outputs": [
    {
     "name": "stdout",
     "output_type": "stream",
     "text": [
      "191228\n",
      "191228\n"
     ]
    }
   ],
   "source": [
    "'''\n",
    "합 조합\n",
    "'''\n",
    "def twoSum(nums, target):\n",
    "    '''\n",
    "    더해서 target이 되는 숫자 인덱스 한쌍 반환\n",
    "    '''\n",
    "    prev = {}\n",
    "    for i, v in enumerate(nums):\n",
    "        diff = target - v\n",
    "        if diff in prev:\n",
    "            return [prev[diff], i]\n",
    "        prev[v] = i\n",
    "twoSum([1, 2, 3, 4, 5], 5)\n",
    "\n",
    "'''\n",
    "알고리즘 퍼즐 69 49. 중복 합이 안나오는 조합 구하기\n",
    "1. 비트 연산으로 구할 수 있지만 32bit를 넘길경우 답이 잘못 나올수 있음\n",
    "2. 배열에 저장해서 합을 구해서 푼다.\n",
    "'''\n",
    "M, N = 50, 4\n",
    "\n",
    "def q69_49_1(n, prev, used):\n",
    "    if n == 0:\n",
    "        return 1\n",
    "    cnt = 0\n",
    "    for i in range(prev, M + 1):\n",
    "        if (used & (used << i)) == 0:\n",
    "            cnt += q69_49_1(n - 1, i + 1, used | (used << i))\n",
    "    return cnt\n",
    "\n",
    "def check(used, x):\n",
    "    res = []\n",
    "    temp = used + [0]\n",
    "    for i in range(len(temp)):\n",
    "        if (temp[i] + x) not in temp:\n",
    "            res.append(temp[i] + x)\n",
    "        else:\n",
    "            return None\n",
    "        res.append(temp[i])\n",
    "    return res\n",
    "def q69_49_2(n, prev, used):\n",
    "\n",
    "    if n == 0:\n",
    "        return 1\n",
    "    cnt = 0\n",
    "    for i in range(prev, M + 1):\n",
    "        next_used = check(used, i)\n",
    "        if next_used:\n",
    "            cnt += q69_49_2(n - 1, i + 1, next_used)\n",
    "    return cnt\n",
    "\n",
    "print(q69_49_1(N, 1, 1))\n",
    "print(q69_49_2(N, 1, []))"
   ]
  },
  {
   "cell_type": "code",
   "execution_count": null,
   "id": "3c49dede",
   "metadata": {},
   "outputs": [],
   "source": []
  }
 ],
 "metadata": {
  "kernelspec": {
   "display_name": "Python 3 (ipykernel)",
   "language": "python",
   "name": "python3"
  },
  "language_info": {
   "codemirror_mode": {
    "name": "ipython",
    "version": 3
   },
   "file_extension": ".py",
   "mimetype": "text/x-python",
   "name": "python",
   "nbconvert_exporter": "python",
   "pygments_lexer": "ipython3",
   "version": "3.9.5"
  }
 },
 "nbformat": 4,
 "nbformat_minor": 5
}
