{
 "cells": [
  {
   "cell_type": "markdown",
   "id": "92c20fab",
   "metadata": {},
   "source": [
    "## MinMax\n",
    "\n",
    "\n",
    "MinMax 알고리즘은 인공지능에서 많이 사용되는 알고리즘 중 하나입니다. 이 알고리즘은 게임 트리 탐색 등의 문제에서 최선의 선택을 할 수 있는 방법을 제공합니다.\n",
    "\n",
    "MinMax 알고리즘은 미니멕스 알고리즘과 맥스믹스 알고리즘의 조합으로 구성됩니다. 미니멕스 알고리즘은 상대방이 최선의 선택을 했다고 가정하고, 그에 따른 최소값을 선택합니다. 반면 맥스믹스 알고리즘은 자신이 최선의 선택을 한다고 가정하고, 그에 따른 최대값을 선택합니다. 이 두 알고리즘을 번갈아 가며 사용하여 게임 트리를 탐색합니다.\n",
    "\n",
    "MinMax 알고리즘의 핵심은 게임의 상태를 표현하는 트리 구조를 만드는 것입니다. 트리의 각 노드는 게임의 상태를 나타내고, 각각의 노드에서는 가능한 모든 움직임을 시도해 본 후에 그에 따른 점수를 계산합니다. 그리고 자신의 턴이라면 맥스믹스 알고리즘을 사용하여 최대값을 선택하고, 상대방의 턴이라면 미니멕스 알고리즘을 사용하여 최소값을 선택합니다.\n",
    "\n",
    "트리의 맨 위에 있는 루트 노드에 도달할 때까지 이 과정을 반복하면, 루트 노드에는 자신이 이길 가능성이 가장 높은 움직임이 선택됩니다. 이렇게 선택된 움직임을 실행하면 최선의 선택을 한 것입니다.\n",
    "\n",
    "MinMax 알고리즘은 단순하면서도 강력한 알고리즘이지만, 게임 트리가 너무 크면 계산량이 매우 많아지기 때문에 효율적인 구현이 필요합니다. 따라서 대규모 게임에서는 이 알고리즘을 개선한 알고리즘들이 사용되기도 합니다."
   ]
  },
  {
   "cell_type": "code",
   "execution_count": 1,
   "id": "35821d19",
   "metadata": {},
   "outputs": [],
   "source": [
    "def evaluate(board):\n",
    "    # 게임 보드의 상태를 평가하여 점수를 반환하는 함수\n",
    "    # 보드의 상태가 유리하면 양수, 불리하면 음수를 반환한다.\n",
    "    # 보드의 상태가 무승부이면 0을 반환한다.\n",
    "    pass\n",
    "\n",
    "def minmax(board, depth, is_maximizing_player):\n",
    "    # 게임 보드, 탐색 깊이, 최대화 플레이어인지 여부를 인자로 받는다.\n",
    "    if depth == 0 or game_over(board):\n",
    "        # 탐색 깊이가 0이거나 게임이 종료되었다면 보드의 상태를 평가하여 반환한다.\n",
    "        return evaluate(board)\n",
    "\n",
    "    if is_maximizing_player:\n",
    "        # 최대화 플레이어의 경우\n",
    "        best_score = -infinity\n",
    "        for move in get_possible_moves(board):\n",
    "            # 가능한 모든 움직임을 시도해 본 후에 그에 따른 점수를 계산한다.\n",
    "            score = minmax(make_move(board, move), depth - 1, False)\n",
    "            # 가장 높은 점수를 가지는 움직임을 선택한다.\n",
    "            best_score = max(best_score, score)\n",
    "        return best_score\n",
    "    else:\n",
    "        # 최소화 플레이어의 경우\n",
    "        best_score = infinity\n",
    "        for move in get_possible_moves(board):\n",
    "            # 가능한 모든 움직임을 시도해 본 후에 그에 따른 점수를 계산한다.\n",
    "            score = minmax(make_move(board, move), depth - 1, True)\n",
    "            # 가장 낮은 점수를 가지는 움직임을 선택한다.\n",
    "            best_score = min(best_score, score)\n",
    "        return best_score\n",
    "\n",
    "def find_best_move(board, depth):\n",
    "    # 현재 상태의 게임 보드와 탐색 깊이를 인자로 받는다.\n",
    "    best_score = -infinity\n",
    "    best_move = None\n",
    "    for move in get_possible_moves(board):\n",
    "        # 가능한 모든 움직임을 시도해 본 후에 그에 따른 점수를 계산한다.\n",
    "        score = minmax(make_move(board, move), depth - 1, False)\n",
    "        # 가장 높은 점수를 가지는 움직임을 선택한다.\n",
    "        if score > best_score:\n",
    "            best_score = score\n",
    "            best_move = move\n",
    "    return best_move\n"
   ]
  }
 ],
 "metadata": {
  "kernelspec": {
   "display_name": "Python 3 (ipykernel)",
   "language": "python",
   "name": "python3"
  },
  "language_info": {
   "codemirror_mode": {
    "name": "ipython",
    "version": 3
   },
   "file_extension": ".py",
   "mimetype": "text/x-python",
   "name": "python",
   "nbconvert_exporter": "python",
   "pygments_lexer": "ipython3",
   "version": "3.9.5"
  }
 },
 "nbformat": 4,
 "nbformat_minor": 5
}
