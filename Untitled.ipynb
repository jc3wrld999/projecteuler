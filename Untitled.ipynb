{
 "cells": [
  {
   "cell_type": "code",
   "execution_count": 13,
   "id": "c4afeeea",
   "metadata": {},
   "outputs": [],
   "source": [
    "def solution(bridge_length, weight, truck_weights):\n",
    "\n",
    "    q = []\n",
    "    t, w = 0, 0\n",
    "    while True:\n",
    "        if not q and not truck_weights:\n",
    "            return t\n",
    "        # 작업 큐 -> 완료\n",
    "        if q and t - q[0][1] == bridge_length:\n",
    "            w2, t2 = q.pop(0)\n",
    "            w -= w2\n",
    "            print(f'{w2} 다리건넜어요 {t - t2}')\n",
    "        # 대기 큐 -> 작업 큐\n",
    "        if truck_weights and w + truck_weights[0] <= weight:\n",
    "            w2 = truck_weights.pop(0)\n",
    "            w += w2\n",
    "            q.append((w2, t))\n",
    "            print(f'{w2} 다리건너요 {t}')\n",
    "\n",
    "        t += 1\n",
    "\n",
    "    return -1\n"
   ]
  },
  {
   "cell_type": "code",
   "execution_count": 14,
   "id": "db9c8695",
   "metadata": {},
   "outputs": [
    {
     "name": "stdout",
     "output_type": "stream",
     "text": [
      "7 다리건너요 0\n",
      "7 다리건넜어요 2\n",
      "4 다리건너요 2\n",
      "5 다리건너요 3\n",
      "4 다리건넜어요 2\n",
      "5 다리건넜어요 2\n",
      "6 다리건너요 5\n",
      "6 다리건넜어요 2\n"
     ]
    },
    {
     "data": {
      "text/plain": [
       "8"
      ]
     },
     "execution_count": 14,
     "metadata": {},
     "output_type": "execute_result"
    }
   ],
   "source": [
    "solution(2, 10, [7, 4, 5, 6])\n"
   ]
  }
 ],
 "metadata": {
  "kernelspec": {
   "display_name": "Python 3 (ipykernel)",
   "language": "python",
   "name": "python3"
  },
  "language_info": {
   "codemirror_mode": {
    "name": "ipython",
    "version": 3
   },
   "file_extension": ".py",
   "mimetype": "text/x-python",
   "name": "python",
   "nbconvert_exporter": "python",
   "pygments_lexer": "ipython3",
   "version": "3.9.5"
  }
 },
 "nbformat": 4,
 "nbformat_minor": 5
}
