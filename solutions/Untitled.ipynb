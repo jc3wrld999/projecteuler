{
 "cells": [
  {
   "cell_type": "code",
   "execution_count": 3,
   "id": "4cb3b650",
   "metadata": {},
   "outputs": [
    {
     "name": "stdout",
     "output_type": "stream",
     "text": [
      "233168\n"
     ]
    }
   ],
   "source": [
    "'''\n",
    "1.\n",
    "10 미만의 3 또는 5의 배수인 자연수를 모두 나열하면 3, 5, 6, 9가 됩니다. 이 배수의 합은 23입니다.\n",
    "\n",
    "1000 미만의 3 또는 5의 모든 배수의 합을 구하십시오.\n",
    "'''\n",
    "def sum_multiples(number, upper_bound):\n",
    "    q = upper_bound // number\n",
    "    # number * (1, 2, ... q)의 합\n",
    "    s = number * (q * (q + 1)) / 2\n",
    "    return int(s)\n",
    "\n",
    "answer = sum_multiples(3, 999) +  sum_multiples(5, 999) -  sum_multiples(15, 999)\n",
    "\n",
    "print(answer)"
   ]
  },
  {
   "cell_type": "code",
   "execution_count": 9,
   "id": "69aa56d3",
   "metadata": {},
   "outputs": [
    {
     "name": "stdout",
     "output_type": "stream",
     "text": [
      "19544084\n"
     ]
    }
   ],
   "source": [
    "'''\n",
    "2.\n",
    "피보나치 수열의 각 새 항은 이전 두 항을 추가하여 생성됩니다. 1과 2로 시작하여 처음 10항은 다음과 같습니다.\n",
    "\n",
    "1, 2, 3, 5, 8, 13, 21, 34, 55, 89, ...\n",
    "\n",
    "값이 4백만을 초과하지 않는 피보나치 수열의 항을 고려하여 짝수 값 항의 합을 구하십시오.\n",
    "'''\n",
    "def fibonacci_evens(maxnumber):\n",
    "    a = 0\n",
    "    b = 1\n",
    "    even_total = 0\n",
    "    while(b <= maxnumber):\n",
    "        if(b % 2 == 0):\n",
    "            even_total = b + even_total\n",
    "        a, b = b, a + b\n",
    "    print(even_total)\n",
    "\n",
    "fibonacci_evens(40000000) # 19544084"
   ]
  },
  {
   "cell_type": "code",
   "execution_count": 10,
   "id": "f55b711d",
   "metadata": {},
   "outputs": [
    {
     "data": {
      "text/plain": [
       "6857"
      ]
     },
     "execution_count": 10,
     "metadata": {},
     "output_type": "execute_result"
    }
   ],
   "source": [
    "'''\n",
    "3.\n",
    "13195의 소인수는 5, 7, 13, 29입니다.\n",
    "\n",
    "숫자 600851475143의 가장 큰 소인수는 무엇입니까?\n",
    "'''\n",
    "def largest_prime_factor(n):\n",
    "    i = 2\n",
    "    while i * i <= n:\n",
    "        if n % i:\n",
    "            i += 1\n",
    "        else:\n",
    "            n //= i\n",
    "    return n\n",
    "\n",
    "largest_prime_factor(600851475143)"
   ]
  },
  {
   "cell_type": "code",
   "execution_count": 19,
   "id": "d245a1ef",
   "metadata": {},
   "outputs": [
    {
     "name": "stdout",
     "output_type": "stream",
     "text": [
      "913 993 906609\n",
      "0.50058 sec\n"
     ]
    }
   ],
   "source": [
    "'''\n",
    "4.\n",
    "팰린드롬 숫자는 양방향으로 동일하게 읽습니다. 2개의 두 자리 숫자의 곱으로 만들어지는 가장 큰 회문은 9009 = 91 × 99입니다.\n",
    "\n",
    "두 개의 3자리 수를 곱하여 만든 가장 큰 회문을 찾으십시오.\n",
    "'''\n",
    "import math\n",
    "import time\n",
    "\n",
    "start = time.time()\n",
    "\n",
    "def is_Palindrome(s):\n",
    "    l = 0\n",
    "    h = len(s) - 1\n",
    "    while l < h:\n",
    "        if s[l] != s[h]:\n",
    "            return False\n",
    "        l, h = l+1, h-1\n",
    "    return True\n",
    "\n",
    "num1, num2, max_pal = 1, 1, 1\n",
    "for i in range(101, 1000):\n",
    "    for j in range(101, 1000):\n",
    "        num = i * j\n",
    "        if is_Palindrome(str(num)):\n",
    "            if max_pal < num:\n",
    "                num1, num2, max_pal = i, j, num\n",
    "print(num1, num2, max_pal)\n",
    "end = time.time()\n",
    "print(f\"{end - start:.5f} sec\") # 0.50058 sec\n"
   ]
  },
  {
   "cell_type": "code",
   "execution_count": 2,
   "id": "e09fe224",
   "metadata": {},
   "outputs": [
    {
     "name": "stdout",
     "output_type": "stream",
     "text": [
      "[2, 3, 2, 5, 1, 7, 2, 3, 1, 11, 1, 13, 1, 1, 2, 17, 1, 19, 1]\n",
      "232792560\n"
     ]
    }
   ],
   "source": [
    "'''\n",
    "5.\n",
    "2520은 1부터 10까지의 숫자로 나머지 없이 나눌 수 있는 가장 작은 수입니다.\n",
    "\n",
    "1부터 20까지의 모든 수로 나누어 떨어지는 가장 작은 양수는 ?\n",
    "\n",
    ">> 소수의 거듭제곱으로 만들수있는 수\n",
    ">> ex) 2520 = 2 ^ 3 * 3 ^ 2 * 5 * 7 (1 ~ 10까지의 소수:2, 3, 5, 7만으로 만들 수 있는 최소값이다.)\n",
    "'''\n",
    "list = []\n",
    "for i in range(2,21):\n",
    "    list.append(i)\n",
    "\n",
    "for i in range(0, len(list)):\n",
    "    for j in range(1, i+1):\n",
    "        if list[i] % list[i-j] == 0:\n",
    "            list[i] = int(list[i] / list[i-j])\n",
    "\n",
    "answer = 1\n",
    "\n",
    "for i in range(0, len(list)):\n",
    "    answer = answer * list[i]\n",
    "\n",
    "print(answer)\n",
    "\n",
    "'''\n",
    "1부터 20까지의 숫자로 모두 나누어 떨어지는 가장 작은 양의 정수를 구하기 위해서는 이 숫자들의 최소공배수를 찾아야 한다.\n",
    "'''\n",
    "from math import gcd\n",
    "\n",
    "def lcm(a, b):\n",
    "    return a * b // gcd(a, b)\n",
    "\n",
    "result = 1\n",
    "for i in range(1, 21):\n",
    "    result = lcm(result, i)\n",
    "\n",
    "print(result)"
   ]
  },
  {
   "cell_type": "code",
   "execution_count": null,
   "id": "8f8685b3",
   "metadata": {},
   "outputs": [],
   "source": [
    "'''\n",
    "6.\n",
    "1부터 100까지의 자연수의 합의 제곱과 제곱의 합의 차이를 구하세요.\n",
    "1부터 100까지의 자연수의 합의 제곱과 제곱의 합을 구한 뒤 둘을 뺀 값을 구하면 됩니다.\n",
    "'''\n",
    "sum_of_squares = sum(i ** 2 for i in range(1, 101))\n",
    "square_of_sum = sum(range(1, 101)) ** 2\n",
    "result = square_of_sum - sum_of_squares\n",
    "\n",
    "print(result)"
   ]
  },
  {
   "cell_type": "code",
   "execution_count": 3,
   "id": "ce29517d",
   "metadata": {},
   "outputs": [
    {
     "data": {
      "text/plain": [
       "7927"
      ]
     },
     "execution_count": 3,
     "metadata": {},
     "output_type": "execute_result"
    }
   ],
   "source": [
    "'''\n",
    "7. 10001번째 소수 구하기\n",
    "10001번째 소수를 구하는 방법은 여러 가지가 있지만, 가장 간단한 방법은 소수를 차례대로 구하는 것입니다.\n",
    "'''\n",
    "def is_prime(n):\n",
    "    if n < 2:\n",
    "        return False\n",
    "    for i in range(2, int(n ** 0.5) + 1):\n",
    "        if n % i == 0:\n",
    "            return False\n",
    "    return True\n",
    "\n",
    "def nth_prime(n):\n",
    "    count = 0\n",
    "    i = 2\n",
    "    while True:\n",
    "        if is_prime(i):\n",
    "            count += 1\n",
    "            if count == n:\n",
    "                return i\n",
    "        i += 1\n",
    "nth_prime(1001)"
   ]
  },
  {
   "cell_type": "code",
   "execution_count": 4,
   "id": "ea077c74",
   "metadata": {},
   "outputs": [
    {
     "data": {
      "text/plain": [
       "2571912"
      ]
     },
     "execution_count": 4,
     "metadata": {},
     "output_type": "execute_result"
    }
   ],
   "source": [
    "'''\n",
    "8. Largest product in a series\n",
    "1000자리 수에서 인접한 n개의 숫자의 곱 중 최대값을 찾는 문제\n",
    "1000자리 수를 문자열로 처리하여 각 자리 숫자를 분리하고, 이중 반복문을 사용하여 인접한 n개의 숫자의 곱을 계산하면서 최대값을 찾으면 됩니다.\n",
    "'''\n",
    "number_str = (\"73167176531330624919225119674426574742355349194934\"\n",
    "              \"96983520312774506326239578318016984801869478851843\"\n",
    "              \"85861560789112949495459501737958331952853208805511\"\n",
    "              \"12540698747158523863050715693290963295227443043557\"\n",
    "              \"66896648950445244523161731856403098711121722383113\"\n",
    "              \"62229893423380308135336276614282806444486645238749\"\n",
    "              \"30358907296290491560440772390713810515859307960866\"\n",
    "              \"70172427121883998797908792274921901699720888093776\"\n",
    "              \"65727333001053367881220235421809751254540594752243\"\n",
    "              \"52584907711670556013604839586446706324415722155397\"\n",
    "              \"53697817977846174064955149290862569321978468622482\"\n",
    "              \"83972241375657056057490261407972968652414535100474\"\n",
    "              \"82166370484403199890008895243450658541227588666881\"\n",
    "              \"16427171479924442928230863465674813919123162824586\"\n",
    "              \"17866458359124566529476545682848912883142607690042\"\n",
    "              \"24219022671055626321111109370544217506941658960408\"\n",
    "              \"07198403850962455444362981230987879927244284909188\"\n",
    "              \"84580156166097919133875499200524063689912560717606\"\n",
    "              \"05886116467109405077541002256983155200055935729725\"\n",
    "              \"71636269561882670428252483600823257530420752963450\")\n",
    "\n",
    "def largest_product_in_series(n):\n",
    "    max_product = 0\n",
    "    for i in range(len(number_str) - n): # 0 ~ len(num) - n\n",
    "        product = 1\n",
    "        for j in range(n): # 0 ~ n\n",
    "            product *= int(number_str[i+j])\n",
    "        max_product = max(max_product, product)\n",
    "    return max_product\n",
    "\n",
    "largest_product_in_series(7)"
   ]
  },
  {
   "cell_type": "code",
   "execution_count": 5,
   "id": "74eecd7a",
   "metadata": {},
   "outputs": [
    {
     "name": "stdout",
     "output_type": "stream",
     "text": [
      "31875000\n"
     ]
    }
   ],
   "source": [
    "'''\n",
    "9.\n",
    "a < b < c 이고 a^2 + b^2 = c^2 를 만족하는 수 중\n",
    "a + b + c = 1000 인 피타고라스 수 a, b, c가 하나만 존재할 때, 이 세 수의 곱은 얼마인가?\n",
    "'''\n",
    "for a in range(1, 333):\n",
    "    for b in range(a+1, (1000-a)//2):\n",
    "        c = 1000 - a - b\n",
    "        if a**2 + b**2 == c**2:\n",
    "            print(a*b*c)\n",
    "            break"
   ]
  },
  {
   "cell_type": "code",
   "execution_count": null,
   "id": "59445b97",
   "metadata": {},
   "outputs": [],
   "source": [
    "'''\n",
    "10.\n",
    "백만 이하의 모든 소수(prime number)의 합을 구하시오.\n",
    "에라토스테네스의 체(Sieve of Eratosthenes) 알고리즘을 사용하여 백만 이하의 모든 소수를 찾아내고, 이들의 합을 계산\n",
    "'''\n",
    "def eratosthenes(n):\n",
    "    primes = [True] * (n+1)\n",
    "    primes[0] = primes[1] = False\n",
    "    for i in range(2, int(n**0.5)+1):\n",
    "        if primes[i]:\n",
    "            for j in range(i*i, n+1, i):\n",
    "                primes[j] = False\n",
    "    return [i for i in range(n+1) if primes[i]]\n",
    "\n",
    "primes = eratosthenes(1000000)\n",
    "print(sum(primes))"
   ]
  }
 ],
 "metadata": {
  "kernelspec": {
   "display_name": "Python 3 (ipykernel)",
   "language": "python",
   "name": "python3"
  },
  "language_info": {
   "codemirror_mode": {
    "name": "ipython",
    "version": 3
   },
   "file_extension": ".py",
   "mimetype": "text/x-python",
   "name": "python",
   "nbconvert_exporter": "python",
   "pygments_lexer": "ipython3",
   "version": "3.9.5"
  }
 },
 "nbformat": 4,
 "nbformat_minor": 5
}
