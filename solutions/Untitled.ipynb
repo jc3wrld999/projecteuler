{
 "cells": [
  {
   "cell_type": "code",
   "execution_count": 3,
   "id": "4cb3b650",
   "metadata": {},
   "outputs": [
    {
     "name": "stdout",
     "output_type": "stream",
     "text": [
      "233168\n"
     ]
    }
   ],
   "source": [
    "'''\n",
    "1.\n",
    "10 미만의 3 또는 5의 배수인 자연수를 모두 나열하면 3, 5, 6, 9가 됩니다. 이 배수의 합은 23입니다.\n",
    "\n",
    "1000 미만의 3 또는 5의 모든 배수의 합을 구하십시오.\n",
    "'''\n",
    "def sum_multiples(number, upper_bound):\n",
    "    q = upper_bound // number\n",
    "    # number * (1, 2, ... q)의 합\n",
    "    s = number * (q * (q + 1)) / 2\n",
    "    return int(s)\n",
    "\n",
    "answer = sum_multiples(3, 999) +  sum_multiples(5, 999) -  sum_multiples(15, 999)\n",
    "\n",
    "print(answer)"
   ]
  },
  {
   "cell_type": "code",
   "execution_count": 9,
   "id": "69aa56d3",
   "metadata": {},
   "outputs": [
    {
     "name": "stdout",
     "output_type": "stream",
     "text": [
      "19544084\n"
     ]
    }
   ],
   "source": [
    "'''\n",
    "2.\n",
    "피보나치 수열의 각 새 항은 이전 두 항을 추가하여 생성됩니다. 1과 2로 시작하여 처음 10항은 다음과 같습니다.\n",
    "\n",
    "1, 2, 3, 5, 8, 13, 21, 34, 55, 89, ...\n",
    "\n",
    "값이 4백만을 초과하지 않는 피보나치 수열의 항을 고려하여 짝수 값 항의 합을 구하십시오.\n",
    "'''\n",
    "def fibonacci_evens(maxnumber):\n",
    "    a = 0\n",
    "    b = 1\n",
    "    even_total = 0\n",
    "    while(b <= maxnumber):\n",
    "        if(b % 2 == 0):\n",
    "            even_total = b + even_total\n",
    "        a, b = b, a + b\n",
    "    print(even_total)\n",
    "\n",
    "fibonacci_evens(40000000) # 19544084"
   ]
  },
  {
   "cell_type": "code",
   "execution_count": 10,
   "id": "f55b711d",
   "metadata": {},
   "outputs": [
    {
     "data": {
      "text/plain": [
       "6857"
      ]
     },
     "execution_count": 10,
     "metadata": {},
     "output_type": "execute_result"
    }
   ],
   "source": [
    "'''\n",
    "3.\n",
    "13195의 소인수는 5, 7, 13, 29입니다.\n",
    "\n",
    "숫자 600851475143의 가장 큰 소인수는 무엇입니까?\n",
    "'''\n",
    "def largest_prime_factor(n):\n",
    "    i = 2\n",
    "    while i * i <= n:\n",
    "        if n % i:\n",
    "            i += 1\n",
    "        else:\n",
    "            n //= i\n",
    "    return n\n",
    "\n",
    "largest_prime_factor(600851475143)"
   ]
  },
  {
   "cell_type": "code",
   "execution_count": 19,
   "id": "d245a1ef",
   "metadata": {},
   "outputs": [
    {
     "name": "stdout",
     "output_type": "stream",
     "text": [
      "913 993 906609\n",
      "0.50058 sec\n"
     ]
    }
   ],
   "source": [
    "'''\n",
    "4.\n",
    "팰린드롬 숫자는 양방향으로 동일하게 읽습니다. 2개의 두 자리 숫자의 곱으로 만들어지는 가장 큰 회문은 9009 = 91 × 99입니다.\n",
    "\n",
    "두 개의 3자리 수를 곱하여 만든 가장 큰 회문을 찾으십시오.\n",
    "'''\n",
    "import math\n",
    "import time\n",
    "\n",
    "start = time.time()\n",
    "\n",
    "def is_Palindrome(s):\n",
    "    l = 0\n",
    "    h = len(s) - 1\n",
    "    while l < h:\n",
    "        if s[l] != s[h]:\n",
    "            return False\n",
    "        l, h = l+1, h-1\n",
    "    return True\n",
    "\n",
    "num1, num2, max_pal = 1, 1, 1\n",
    "for i in range(101, 1000):\n",
    "    for j in range(101, 1000):\n",
    "        num = i * j\n",
    "        if is_Palindrome(str(num)):\n",
    "            if max_pal < num:\n",
    "                num1, num2, max_pal = i, j, num\n",
    "print(num1, num2, max_pal)\n",
    "end = time.time()\n",
    "print(f\"{end - start:.5f} sec\") # 0.50058 sec\n"
   ]
  },
  {
   "cell_type": "code",
   "execution_count": 25,
   "id": "e09fe224",
   "metadata": {},
   "outputs": [
    {
     "name": "stdout",
     "output_type": "stream",
     "text": [
      "232792560.0\n"
     ]
    }
   ],
   "source": [
    "'''\n",
    "5.\n",
    "2520은 1부터 10까지의 숫자로 나머지 없이 나눌 수 있는 가장 작은 수입니다.\n",
    "\n",
    "1부터 20까지의 모든 수로 나누어 떨어지는 가장 작은 양수는 ?\n",
    "'''\n",
    "from math import *\n",
    "\n",
    "def is_prime(num):\n",
    "\tif num == 0 or num == 1:\n",
    "\t\treturn False\n",
    "\tfor x in range(2, int(num ** 0.5)+1):\n",
    "\t\tif num % x == 0:\n",
    "\t\t\treturn False\n",
    "\telse:\n",
    "\t\treturn True\n",
    "\n",
    "max_divisor = 20\n",
    "result = 1\n",
    "prime_nos = prime_nos = filter(is_prime, range(1, 20))\n",
    "for prime in prime_nos:\n",
    "    a = floor(log(max_divisor)/log(prime))\n",
    "    result = result * pow(prime, a)\n",
    "print(result) # 232792560.0"
   ]
  },
  {
   "cell_type": "code",
   "execution_count": null,
   "id": "8f8685b3",
   "metadata": {},
   "outputs": [],
   "source": []
  }
 ],
 "metadata": {
  "kernelspec": {
   "display_name": "Python 3 (ipykernel)",
   "language": "python",
   "name": "python3"
  },
  "language_info": {
   "codemirror_mode": {
    "name": "ipython",
    "version": 3
   },
   "file_extension": ".py",
   "mimetype": "text/x-python",
   "name": "python",
   "nbconvert_exporter": "python",
   "pygments_lexer": "ipython3",
   "version": "3.9.5"
  }
 },
 "nbformat": 4,
 "nbformat_minor": 5
}
